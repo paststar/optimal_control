{
 "cells": [
  {
   "cell_type": "code",
   "execution_count": null,
   "metadata": {},
   "outputs": [],
   "source": [
    "import torch\n",
    "import matplotlib.pyplot as plt\n",
    "import sys\n",
    "import os\n",
    "import numpy as np \n",
    "import os.path as osp\n",
    "import pickle\n",
    "#from scipy.integrate import odeint\n",
    "from scipy.integrate import solve_ivp\n",
    "from scipy.interpolate import interp1d\n",
    "\n",
    "import shutil\n",
    "\n",
    "from tqdm import tqdm"
   ]
  },
  {
   "cell_type": "code",
   "execution_count": 16,
   "metadata": {},
   "outputs": [],
   "source": [
    "np.random.seed(42)\n",
    "\n",
    "T = 30 \n",
    "M = 121 # sensor 개수\n",
    "D = np.linspace(0, T, M) # sensor\n",
    "interp_M = 31\n",
    "interp_D = np.linspace(0, T, interp_M)\n",
    "\n",
    "N = 1000 # train data 개수\n",
    "test_N=200 # test data 개수\n",
    "\n",
    "\n",
    "S0 = 350\n",
    "I0 = 10 \n",
    "R0 = 2.5 # basic reproduction number\n",
    "gamma  = 0.25\n",
    "beta = R0*gamma/S0\n",
    "\n",
    "x0 = (S0,I0) # initial condition\n",
    "#dict_D = {v:i for i,v in enumerate(D)}"
   ]
  },
  {
   "cell_type": "code",
   "execution_count": 3,
   "metadata": {},
   "outputs": [],
   "source": [
    "def func(t,Y,u): # Y[0] = S, Y[1] = I\n",
    "    return -beta*Y[0]*Y[1]-u(t)*Y[0], beta*Y[0]*Y[1]-gamma*Y[1]"
   ]
  },
  {
   "cell_type": "code",
   "execution_count": 4,
   "metadata": {},
   "outputs": [
    {
     "name": "stderr",
     "output_type": "stream",
     "text": [
      "100%|██████████████████████████████████████████████████████████████████████████████| 1000/1000 [00:10<00:00, 93.96it/s]\n"
     ]
    },
    {
     "name": "stdout",
     "output_type": "stream",
     "text": [
      "train_data_done\n"
     ]
    }
   ],
   "source": [
    "train_x = []\n",
    "train_y = []\n",
    "test_x = []\n",
    "test_y = []\n",
    "\n",
    "#Train data\n",
    "for i in tqdm(range(N)):\n",
    "    interp_x = np.random.rand(interp_M)\n",
    "    u = interp1d(interp_D, interp_x, kind='cubic')\n",
    "    sol = solve_ivp(func, (0,T), x0, method='RK45',t_eval=D,args=(u,))\n",
    "    x = u(D)\n",
    "    \n",
    "    for j in D:\n",
    "        train_x.append(np.append(x, j))\n",
    "\n",
    "    for j in range(len(D)):\n",
    "        train_y.append(sol.y[:,j])\n",
    "\n",
    "train_x = torch.as_tensor(train_x).reshape(N*len(D), len(D) + 1) \n",
    "train_y = torch.as_tensor(train_y).reshape(N*len(D),2)\n",
    "print('train_data_done')"
   ]
  },
  {
   "cell_type": "code",
   "execution_count": 5,
   "metadata": {},
   "outputs": [
    {
     "name": "stderr",
     "output_type": "stream",
     "text": [
      "100%|████████████████████████████████████████████████████████████████████████████████| 200/200 [00:02<00:00, 90.29it/s]\n"
     ]
    },
    {
     "name": "stdout",
     "output_type": "stream",
     "text": [
      "test_data_done\n"
     ]
    }
   ],
   "source": [
    "#Test data\n",
    "for i in tqdm(range(test_N)):\n",
    "    interp_x = np.random.rand(interp_M)\n",
    "    u = interp1d(interp_D, interp_x, kind='cubic')\n",
    "    sol = solve_ivp(func, (0,T), x0, method='RK45',t_eval=D,args=(u,))\n",
    "    x = u(D)\n",
    "    \n",
    "    for j in D:\n",
    "        test_x.append(np.append(x, j))\n",
    "\n",
    "    for j in range(len(D)):\n",
    "        test_y.append(sol.y[:,j])\n",
    "\n",
    "test_x = torch.as_tensor(test_x).reshape(test_N*len(D), len(D) + 1)\n",
    "test_y = torch.as_tensor(test_y).reshape(test_N*len(D), 2)\n",
    "print('test_data_done')\n",
    "\n",
    "data = {'train_X' : train_x, 'train_Y' : train_y, 'test_X' : test_x, 'test_Y' : test_y, 'M' : len(D)}"
   ]
  },
  {
   "cell_type": "code",
   "execution_count": 6,
   "metadata": {},
   "outputs": [
    {
     "name": "stdout",
     "output_type": "stream",
     "text": [
      "SIR_v3_N1000_M121_int11.pickle is saved\n"
     ]
    }
   ],
   "source": [
    "make_data=True\n",
    "file_name='SIR_v3_N'+str(N)+'_M'+str(M)+'_int'+str(interp_M)+'.pickle'\n",
    "\n",
    "if make_data:\n",
    "    with open(file_name,\"wb\") as fw:\n",
    "        pickle.dump(data, fw)\n",
    "    load_data=data\n",
    "    print(file_name, 'is saved')\n",
    "else:\n",
    "    ## load dataset\n",
    "    with open(file_name,\"rb\") as fr:\n",
    "        load_data= pickle.load(fr)\n",
    "        print(file_name, 'is loaded')"
   ]
  },
  {
   "cell_type": "code",
   "execution_count": 7,
   "metadata": {},
   "outputs": [
    {
     "name": "stdout",
     "output_type": "stream",
     "text": [
      "torch.Size([121000, 122]) torch.Size([121000, 2]) torch.Size([24200, 122]) torch.Size([24200, 2])\n"
     ]
    }
   ],
   "source": [
    "print(load_data['train_X'].shape,load_data['train_Y'].shape,load_data['test_X'].shape,load_data['test_Y'].shape)"
   ]
  },
  {
   "cell_type": "markdown",
   "metadata": {},
   "source": [
    "## viz"
   ]
  },
  {
   "cell_type": "code",
   "execution_count": 8,
   "metadata": {
    "scrolled": false
   },
   "outputs": [],
   "source": [
    "# idx=np.random.randint(0,N)\n",
    "\n",
    "# x=load_data['train_X'][M*idx][:M]\n",
    "# y=load_data['train_Y'][M*idx:M*idx+M]\n",
    "\n",
    "# plt.figure(figsize=(10,7))\n",
    "# plt.subplot(3, 1, 1)  \n",
    "# plt.plot(D, x)\n",
    "# plt.xlabel('t')\n",
    "# plt.title('u(t)')\n",
    "\n",
    "# plt.figure(figsize=(10,7))\n",
    "# plt.subplot(3, 1, 2)  \n",
    "# plt.plot(D, y[:,0],'orange')\n",
    "# plt.title('S(t)')\n",
    "# plt.xlabel('t')\n",
    "\n",
    "# plt.figure(figsize=(10,7))\n",
    "# plt.subplot(3, 1, 3)  \n",
    "# plt.plot(D, y[:,1],'g')\n",
    "# plt.title('I(t)')\n",
    "# plt.xlabel('t')\n",
    "\n",
    "# #plt.legend()"
   ]
  },
  {
   "cell_type": "code",
   "execution_count": 34,
   "metadata": {
    "scrolled": false
   },
   "outputs": [
    {
     "data": {
      "text/plain": [
       "Text(0.5, 0, 't')"
      ]
     },
     "execution_count": 34,
     "metadata": {},
     "output_type": "execute_result"
    },
    {
     "data": {
      "image/png": "[encoded data removed]",
      "text/plain": [
       "<Figure size 720x504 with 1 Axes>"
      ]
     },
     "metadata": {
      "needs_background": "light"
     },
     "output_type": "display_data"
    },
    {
     "data": {
      "image/png": "[encoded data removed]",
      "text/plain": [
       "<Figure size 720x504 with 1 Axes>"
      ]
     },
     "metadata": {
      "needs_background": "light"
     },
     "output_type": "display_data"
    },
    {
     "data": {
      "image/png": "[encoded data removed]",
      "text/plain": [
       "<Figure size 720x504 with 1 Axes>"
      ]
     },
     "metadata": {
      "needs_background": "light"
     },
     "output_type": "display_data"
    }
   ],
   "source": [
    "interp_x = np.random.rand(interp_M)\n",
    "u = interp1d(interp_D, interp_x, kind='cubic')\n",
    "sol = solve_ivp(func, (0,T), x0, method='RK45',t_eval=D,args=(u,))\n",
    "x = u(D)\n",
    "\n",
    "xnew = np.linspace(0, T, 10*M) # for viz\n",
    "ynew = u(xnew) # for viz\n",
    "\n",
    "plt.figure(figsize=(10,7))\n",
    "plt.subplot(3, 1, 1)  \n",
    "plt.plot(D,u(D),'o-',color='gray',markersize=3)\n",
    "plt.plot(interp_D,interp_x,'o',color='red',markersize=3)\n",
    "plt.xlabel('t')\n",
    "#plt.title('u(t)')\n",
    "plt.title('#interp='+str(interp_M))\n",
    "\n",
    "\n",
    "plt.figure(figsize=(10,7))\n",
    "plt.subplot(3, 1, 2)  \n",
    "plt.plot(D, sol.y[0],'o',color='orange',markersize=3)\n",
    "plt.title('S(t)')\n",
    "plt.xlabel('t')\n",
    "\n",
    "plt.figure(figsize=(10,7))\n",
    "plt.subplot(3, 1, 3)  \n",
    "plt.plot(D, sol.y[1],'go',markersize=3)\n",
    "\n",
    "plt.title('I(t)')\n",
    "plt.xlabel('t')"
   ]
  },
  {
   "cell_type": "code",
   "execution_count": null,
   "metadata": {},
   "outputs": [],
   "source": [
    "max()"
   ]
  },
  {
   "cell_type": "markdown",
   "metadata": {},
   "source": [
    "## Rec"
   ]
  },
  {
   "cell_type": "code",
   "execution_count": 11,
   "metadata": {},
   "outputs": [
    {
     "name": "stdout",
     "output_type": "stream",
     "text": [
      "SIR_v3_N1000_M121_int11.pickle is loaded\n"
     ]
    }
   ],
   "source": [
    "file_name='SIR_v3_N'+str(N)+'_M'+str(M)+'_int'+str(interp_M)+'.pickle'\n",
    "## load dataset\n",
    "with open(file_name,\"rb\") as fr:\n",
    "    load_data= pickle.load(fr)\n",
    "    print(file_name, 'is loaded')\n",
    "index_D = {k:v for v,k in enumerate(D)}"
   ]
  },
  {
   "cell_type": "code",
   "execution_count": 12,
   "metadata": {},
   "outputs": [],
   "source": [
    "index = load_data['train_X'][:,-1].clone().unsqueeze(1).apply_(lambda x:index_D[x]).to(torch.int64)\n",
    "train_u = torch.gather(load_data['train_X'],1,index)\n",
    "rec_train = torch.cat((load_data['train_Y'], train_u),dim=1)\n",
    "\n",
    "index = load_data['test_X'][:,-1].clone().unsqueeze(1).apply_(lambda x:index_D[x]).to(torch.int64)\n",
    "test_u = torch.gather(load_data['test_X'],1,index)\n",
    "rec_test = torch.cat((load_data['test_Y'], test_u),dim=1)\n",
    "\n",
    "rec_data = {'train_X' : load_data['train_X'], \n",
    "        'train_Y' : rec_train,\n",
    "        'test_X' : load_data['test_X'],\n",
    "        'test_Y' : rec_test,\n",
    "        'M' : len(D)}"
   ]
  },
  {
   "cell_type": "code",
   "execution_count": 13,
   "metadata": {},
   "outputs": [
    {
     "name": "stdout",
     "output_type": "stream",
     "text": [
      "SIR_v3_rec_N1000_M121_int11.pickle is saved\n"
     ]
    }
   ],
   "source": [
    "file_name='SIR_v3_rec_N'+str(N)+'_M'+str(M)+'_int'+str(interp_M)+'.pickle'\n",
    "with open(file_name,\"wb\") as fw:\n",
    "    pickle.dump(rec_data, fw)\n",
    "\n",
    "print(file_name, 'is saved')"
   ]
  }
 ],
 "metadata": {
  "kernelspec": {
   "display_name": "[Pytorch_1.8.1]",
   "language": "python",
   "name": "troch"
  },
  "language_info": {
   "codemirror_mode": {
    "name": "ipython",
    "version": 3
   },
   "file_extension": ".py",
   "mimetype": "text/x-python",
   "name": "python",
   "nbconvert_exporter": "python",
   "pygments_lexer": "ipython3",
   "version": "3.8.5"
  }
 },
 "nbformat": 4,
 "nbformat_minor": 2
}
